{
  "cells": [
    {
      "cell_type": "markdown",
      "metadata": {
        "id": "PBmFgZWHKO7T"
      },
      "source": [
        "# **Regressors** \n",
        "Let's Boost Our Knowledge with Regression Problems and be Ready for All of it,\n",
        "\n",
        "\n",
        "# Important Note :-\n",
        "While dealing with vectors  [ 1D Array ] =  1 Feature  or 1 Label\n",
        "Some functions such as fitting and transforming would require the input to be reshaped , try to just add a line  for this  when you want to reshape `X` \n",
        "you just type  :-\n",
        "`X= X.reshape(-1,1)  `"
      ]
    },
    {
      "cell_type": "code",
      "execution_count": null,
      "metadata": {
        "id": "WurwMKJZKsia",
        "vscode": {
          "languageId": "python"
        }
      },
      "outputs": [],
      "source": [
        "#from google.colab import drive\n",
        "#drive.mount('/content/drive/')\n",
        "#import os \n",
        "#os.chdir('drive/My Drive/Split3 : Machine Learning')"
      ]
    },
    {
      "cell_type": "markdown",
      "metadata": {
        "id": "IBYvQecAKw0M"
      },
      "source": [
        "# **First**   : Come and Have A look on a Comparison Between Polynomial Regression and Linear Regression\n",
        " "
      ]
    },
    {
      "cell_type": "code",
      "execution_count": 24,
      "metadata": {
        "colab": {
          "base_uri": "https://localhost:8080/",
          "height": 312
        },
        "id": "KOTcpTK9dxip",
        "outputId": "0be30428-de0b-4881-8e1c-6d10cbc96377",
        "vscode": {
          "languageId": "python"
        }
      },
      "outputs": [
        {
          "name": "stdout",
          "output_type": "stream",
          "text": [
            "R squared of DecisionTreeRegressor : 0.9976748641432848\n"
          ]
        },
        {
          "data": {
            "image/png": "[encoded data removed]",
            "text/plain": [
              "<Figure size 432x288 with 1 Axes>"
            ]
          },
          "metadata": {
            "needs_background": "light"
          },
          "output_type": "display_data"
        }
      ],
      "source": [
        "## Importing the libraries\n",
        "import numpy as np\n",
        "import matplotlib.pyplot as plt\n",
        "import pandas as pd\n",
        "import sklearn \n",
        "\n",
        "# Importing the dataset\n",
        "df= pd.read_csv('Salary_Data.csv')\n",
        "X= df.iloc[:,0].values\n",
        "y=df.iloc[:,1].values\n",
        "\n",
        "# Splitting the dataset into the Training set and Test set\n",
        "from sklearn.model_selection import train_test_split\n",
        "X=X.reshape(-1,1)\n",
        "y=y.reshape(-1,1)\n",
        "X_train, X_test, y_train, y_test = train_test_split(X, y, test_size = 0.25, random_state = 0)\n",
        "\n",
        "# Feature Scaling\n",
        "from sklearn.preprocessing import StandardScaler\n",
        "sc_X = StandardScaler()\n",
        "X_train = sc_X.fit_transform(X_train)\n",
        "X_test = sc_X.transform(X_test)\n",
        "\n",
        "# Fitting Linear Regression to the dataset\n",
        "from sklearn.tree import DecisionTreeRegressor\n",
        "Regressor= DecisionTreeRegressor()\n",
        "Regressor.fit(X,y)\n",
        "\n",
        "#-------#\n",
        "#Evaluation\n",
        "from sklearn.metrics import r2_score\n",
        "Er1=r2_score(y,Regressor.predict(X))\n",
        "print('R squared of DecisionTreeRegressor :', Er1)\n",
        "\n",
        "#Visualising the Linear Regression results\n",
        "plt.scatter(X, y, color = 'red')\n",
        "plt.plot(X , Regressor.predict(X), color = 'blue')\n",
        "plt.title('DecisionTreeRegressor by Sherif Ahmed')\n",
        "plt.xlabel('Position level')\n",
        "plt.ylabel('Salary')\n",
        "plt.show()\n",
        "\n",
        "\n",
        "\n"
      ]
    }
  ],
  "metadata": {
    "colab": {
      "collapsed_sections": [],
      "name": "Copy of Regressors.ipynb",
      "provenance": []
    },
    "kernelspec": {
      "display_name": "Python 3",
      "name": "python3"
    }
  },
  "nbformat": 4,
  "nbformat_minor": 0
}
